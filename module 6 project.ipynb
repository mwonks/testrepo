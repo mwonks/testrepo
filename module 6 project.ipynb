{
 "cells": [
  {
   "cell_type": "code",
   "execution_count": 2,
   "id": "cfe7cb79-c821-4562-bbb3-6e12795e3c94",
   "metadata": {},
   "outputs": [],
   "source": [
    "# Final Project: Data Science Notebook\n"
   ]
  },
  {
   "cell_type": "markdown",
   "id": "fac63b9e-c419-4a19-bcf5-94748d7017e6",
   "metadata": {},
   "source": [
    "## Introduction\n",
    "This notebook is a final project for demonstrating proficiency in basic data science concepts, tools, and techniques."
   ]
  },
  {
   "cell_type": "markdown",
   "id": "ac0d83c2-6242-44d8-803a-15deb050d56b",
   "metadata": {},
   "source": [
    "## Data Science Languages\n",
    "- Python\n",
    "- R\n",
    "- SQL\n",
    "- Julia\n",
    "- Scala"
   ]
  },
  {
   "cell_type": "markdown",
   "id": "4a75e139-7317-4455-9bf6-7f959eaaa2b1",
   "metadata": {},
   "source": [
    "## Data Science Libraries\n",
    "- NumPy\n",
    "- Pandas\n",
    "- Matplotlib\n",
    "- Scikit-learn\n",
    "- TensorFlow\n"
   ]
  },
  {
   "cell_type": "markdown",
   "id": "890a396e-5507-445b-961e-51eb9a0f8227",
   "metadata": {},
   "source": [
    "## Data Science Tools\n",
    "\n",
    "| Tool            | Description                         |\n",
    "|-----------------|-------------------------------------|\n",
    "| Jupyter Notebook| Interactive notebook environment    |\n",
    "| RStudio         | IDE for R programming language      |\n",
    "| Apache Hadoop   | Framework for distributed data      |\n"
   ]
  },
  {
   "cell_type": "markdown",
   "id": "cb18f6a1-7f96-41ac-95b6-4da9b7603655",
   "metadata": {},
   "source": [
    "## Arithmetic Expressions\n",
    "Below are examples of arithmetic expressions, including addition and multiplication.\n"
   ]
  },
  {
   "cell_type": "code",
   "execution_count": 10,
   "id": "11c3349c-6ffe-4e68-823e-b53a72ef70b6",
   "metadata": {},
   "outputs": [
    {
     "data": {
      "text/plain": [
       "40"
      ]
     },
     "execution_count": 10,
     "metadata": {},
     "output_type": "execute_result"
    }
   ],
   "source": [
    "# Example: Multiply and add numbers\n",
    "result = (5 * 6) + 10\n",
    "result\n"
   ]
  },
  {
   "cell_type": "code",
   "execution_count": 9,
   "id": "c06490b8-1911-4839-bb20-79fbb4b1e706",
   "metadata": {},
   "outputs": [
    {
     "data": {
      "text/plain": [
       "3.3333333333333335"
      ]
     },
     "execution_count": 9,
     "metadata": {},
     "output_type": "execute_result"
    }
   ],
   "source": [
    "# Convert minutes to hours\n",
    "minutes = 200\n",
    "hours = minutes / 60\n",
    "hours"
   ]
  },
  {
   "cell_type": "markdown",
   "id": "67f1e3ed-cc40-4c63-ad75-abded7fd4780",
   "metadata": {},
   "source": [
    "## Objectives\n",
    "- List popular Data Science languages\n",
    "- List popular Data Science libraries\n",
    "- Perform basic arithmetic operations\n",
    "- Convert time units"
   ]
  },
  {
   "cell_type": "markdown",
   "id": "8d8e0f72-ce97-4cac-895d-299e53fa2943",
   "metadata": {},
   "source": [
    "## Author\n",
    "Weston Monks\n"
   ]
  },
  {
   "cell_type": "code",
   "execution_count": null,
   "id": "51324391-7247-4ed5-916d-92eb4b5d501f",
   "metadata": {},
   "outputs": [],
   "source": []
  }
 ],
 "metadata": {
  "kernelspec": {
   "display_name": "Python 3 (ipykernel)",
   "language": "python",
   "name": "python3"
  },
  "language_info": {
   "codemirror_mode": {
    "name": "ipython",
    "version": 3
   },
   "file_extension": ".py",
   "mimetype": "text/x-python",
   "name": "python",
   "nbconvert_exporter": "python",
   "pygments_lexer": "ipython3",
   "version": "3.11.2"
  }
 },
 "nbformat": 4,
 "nbformat_minor": 5
}
